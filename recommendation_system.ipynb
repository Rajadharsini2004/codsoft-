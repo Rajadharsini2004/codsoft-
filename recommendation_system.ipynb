{
  "nbformat": 4,
  "nbformat_minor": 0,
  "metadata": {
    "colab": {
      "provenance": [],
      "authorship_tag": "ABX9TyNI3PTVAqIZYgjhsVoFrOSD",
      "include_colab_link": true
    },
    "kernelspec": {
      "name": "python3",
      "display_name": "Python 3"
    },
    "language_info": {
      "name": "python"
    }
  },
  "cells": [
    {
      "cell_type": "markdown",
      "metadata": {
        "id": "view-in-github",
        "colab_type": "text"
      },
      "source": [
        "<a href=\"https://colab.research.google.com/github/Rajadharsini2004/codsoft-/blob/main/recommendation_system.ipynb\" target=\"_parent\"><img src=\"https://colab.research.google.com/assets/colab-badge.svg\" alt=\"Open In Colab\"/></a>"
      ]
    },
    {
      "cell_type": "code",
      "source": [
        "import numpy as np\n",
        "from sklearn.metrics.pairwise import cosine_similarity"
      ],
      "metadata": {
        "id": "bK6GS2B8xWz0"
      },
      "execution_count": null,
      "outputs": []
    },
    {
      "cell_type": "code",
      "source": [
        "import numpy as np\n",
        "from sklearn.metrics.pairwise import cosine_similarity\n",
        "\n",
        "class SimpleRecommendationSystem:\n",
        "    def __init__(self, items, ratings):\n",
        "        self.items = items\n",
        "        self.ratings = ratings\n",
        "        self.user_item_matrix, self.user_id_map, self.item_id_map = self.create_user_item_matrix()\n",
        "\n",
        "    def create_user_item_matrix(self):\n",
        "        unique_users = set()\n",
        "        for rating in self.ratings:\n",
        "            unique_users.add(rating['user_id'])\n",
        "\n",
        "        user_item_matrix = np.zeros((len(unique_users), len(self.items)))\n",
        "\n",
        "        user_id_map = {user_id: idx for idx, user_id in enumerate(unique_users)}\n",
        "        item_id_map = {item_id: idx for idx, item_id in enumerate(self.items)}\n",
        "\n",
        "        for rating in self.ratings:\n",
        "            user_idx = user_id_map[rating['user_id']]\n",
        "            item_idx = item_id_map[rating['item_id']]\n",
        "            user_item_matrix[user_idx, item_idx] = rating['rating']\n",
        "\n",
        "        return user_item_matrix, user_id_map, item_id_map\n",
        "\n",
        "    def recommend_items(self, user_id, num_recommendations=5):\n",
        "        user_idx = self.user_id_map[user_id]\n",
        "\n",
        "        similarities = cosine_similarity(\n",
        "            [self.user_item_matrix[user_idx]],\n",
        "            self.user_item_matrix\n",
        "        ).flatten()\n",
        "\n",
        "        similar_users = np.argsort(similarities)[::-1]\n",
        "\n",
        "        similar_users = similar_users[1:]\n",
        "\n",
        "        unrated_items = np.where(self.user_item_matrix[user_idx] == 0)[0]\n",
        "\n",
        "        avg_ratings = np.mean(self.user_item_matrix[similar_users][:, unrated_items], axis=0)\n",
        "\n",
        "        recommended_items = np.argsort(avg_ratings)[::-1][:num_recommendations]\n",
        "\n",
        "        recommended_item_ids = [list(self.item_id_map.keys())[list(self.item_id_map.values()).index(item_idx)] for item_idx in recommended_items]\n",
        "\n",
        "        return recommended_item_ids\n",
        "\n",
        "items = ['Infinite Journey', 'IT', 'Its okay is not to be ok', 'Pet semetry', 'Book2', 'Book3']\n",
        "ratings = [\n",
        "    {'user_id': 'User1', 'item_id': 'Infinite Journey', 'rating': 5},\n",
        "    {'user_id': 'User1', 'item_id': 'Book2', 'rating': 4},\n",
        "    {'user_id': 'User2', 'item_id': 'Infinite Journey', 'rating': 3},\n",
        "    {'user_id': 'User2', 'item_id': 'Book2', 'rating': 5},\n",
        "]\n",
        "\n",
        "recommendation_system = SimpleRecommendationSystem(items, ratings)\n",
        "\n",
        "user_id_to_recommend = 'User1'\n",
        "recommendations = recommendation_system.recommend_items(user_id_to_recommend)\n",
        "\n",
        "print(f\"Recommended items for {user_id_to_recommend}: {recommendations}\")\n"
      ],
      "metadata": {
        "colab": {
          "base_uri": "https://localhost:8080/"
        },
        "id": "X5qCgdJy0DBg",
        "outputId": "ad9f4713-0fb1-4869-d203-f7a927adebc3"
      },
      "execution_count": 2,
      "outputs": [
        {
          "output_type": "stream",
          "name": "stdout",
          "text": [
            "Recommended items for User1: ['Pet semetry', 'Its okay is not to be ok', 'IT', 'Infinite Journey']\n"
          ]
        }
      ]
    },
    {
      "cell_type": "code",
      "source": [],
      "metadata": {
        "id": "xt2t8gjy0M9i"
      },
      "execution_count": null,
      "outputs": []
    }
  ]
}