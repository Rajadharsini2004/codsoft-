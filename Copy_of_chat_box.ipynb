{
  "nbformat": 4,
  "nbformat_minor": 0,
  "metadata": {
    "colab": {
      "provenance": [],
      "authorship_tag": "ABX9TyOYXm6btS8yxbLx8D3Lvv+0",
      "include_colab_link": true
    },
    "kernelspec": {
      "name": "python3",
      "display_name": "Python 3"
    },
    "language_info": {
      "name": "python"
    }
  },
  "cells": [
    {
      "cell_type": "markdown",
      "metadata": {
        "id": "view-in-github",
        "colab_type": "text"
      },
      "source": [
        "<a href=\"https://colab.research.google.com/github/Rajadharsini2004/codsoft-/blob/main/Copy_of_chat_box.ipynb\" target=\"_parent\"><img src=\"https://colab.research.google.com/assets/colab-badge.svg\" alt=\"Open In Colab\"/></a>"
      ]
    },
    {
      "cell_type": "code",
      "source": [
        "import re\n",
        "\n",
        "def simple_chatbot(user_input):\n",
        "    rules = {\n",
        "        r'hello|hi|hey': 'Hello! How can I help you?',\n",
        "        r'how are you': 'I am a chatbot, so I don\\'t have feelings, but thanks for asking!',\n",
        "        r'your name|who are you': 'I am a Simple Chatbot.',\n",
        "        r'bye|goodbye': 'Goodbye! Have a great day!',\n",
        "        r'help': 'I can respond to greetings, inquire about your well-being, tell you my name, and say goodbye.'\n",
        "    }\n",
        "\n",
        "    for pattern, response in rules.items():\n",
        "        if re.search(pattern, user_input, re.IGNORECASE):\n",
        "            return response\n",
        "\n",
        "    return \"I'm sorry, I didn't understand that. You can ask for help if needed.\"\n",
        "\n",
        "def main():\n",
        "    print(\"Simple Chatbot: Hello! Type 'bye' to exit.\")\n",
        "\n",
        "    while True:\n",
        "        user_input = input(\"User: \")\n",
        "\n",
        "        if user_input.lower() == 'bye':\n",
        "            print(\"Simple Chatbot: Goodbye!\")\n",
        "            break\n",
        "\n",
        "        response = simple_chatbot(user_input)\n",
        "        print(\"Simple Chatbot:\", response)\n",
        "\n",
        "if __name__ == \"__main__\":\n",
        "    main()\n"
      ],
      "metadata": {
        "colab": {
          "base_uri": "https://localhost:8080/"
        },
        "id": "RKsWojH-vKlB",
        "outputId": "e67cabbd-f6eb-422d-af44-f7187151d0ff"
      },
      "execution_count": null,
      "outputs": [
        {
          "output_type": "stream",
          "name": "stdout",
          "text": [
            "Simple Chatbot: Hello! Type 'bye' to exit.\n",
            "User: hi\n",
            "Simple Chatbot: Hello! How can I help you?\n",
            "User: how are you\n",
            "Simple Chatbot: I am a chatbot, so I don't have feelings, but thanks for asking!\n"
          ]
        }
      ]
    },
    {
      "cell_type": "code",
      "source": [],
      "metadata": {
        "id": "3xMP5yZqvYL4"
      },
      "execution_count": null,
      "outputs": []
    }
  ]
}